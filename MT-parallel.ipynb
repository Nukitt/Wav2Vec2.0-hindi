{
  "nbformat": 4,
  "nbformat_minor": 0,
  "metadata": {
    "colab": {
      "provenance": []
    },
    "kernelspec": {
      "name": "python3",
      "display_name": "Python 3"
    },
    "language_info": {
      "name": "python"
    }
  },
  "cells": [
    {
      "cell_type": "code",
      "execution_count": null,
      "metadata": {
        "colab": {
          "base_uri": "https://localhost:8080/"
        },
        "id": "RrQ-H8hMMWo0",
        "outputId": "a2ab7edd-2efe-4f7a-db59-5d3858aac84c"
      },
      "outputs": [
        {
          "output_type": "stream",
          "name": "stdout",
          "text": [
            "उदाहरण के लिए आपके पास पुश डिफाइन जैसा फ़ंक्शन होगा और इसमें दो पैरामीटर होंगे\n"
          ]
        }
      ],
      "source": [
        "from googletrans import Translator\n",
        "\n",
        "# Create a translator object\n",
        "translator = Translator()\n",
        "\n",
        "# The text to translate\n",
        "actual = 'you would have for example a function like push define and have two parameters'\n",
        "\n",
        "# Translate the text to Hindi\n",
        "prediction = translator.translate(actual, dest='hi')\n",
        "prediction=prediction.text\n",
        "\n",
        "# Print the translation\n",
        "\n",
        "print(prediction)\n"
      ]
    },
    {
      "cell_type": "code",
      "source": [
        "pip install englisttohindi"
      ],
      "metadata": {
        "id": "ZAmfU8ZTmHjq",
        "colab": {
          "base_uri": "https://localhost:8080/"
        },
        "outputId": "7565da06-51e9-4936-9df3-3e03ee03abda"
      },
      "execution_count": null,
      "outputs": [
        {
          "output_type": "stream",
          "name": "stdout",
          "text": [
            "Looking in indexes: https://pypi.org/simple, https://us-python.pkg.dev/colab-wheels/public/simple/\n",
            "Requirement already satisfied: englisttohindi in /usr/local/lib/python3.10/dist-packages (4.1.0)\n",
            "Requirement already satisfied: pandas in /usr/local/lib/python3.10/dist-packages (from englisttohindi) (1.5.3)\n",
            "Requirement already satisfied: bs4 in /usr/local/lib/python3.10/dist-packages (from englisttohindi) (0.0.1)\n",
            "Requirement already satisfied: requests in /usr/local/lib/python3.10/dist-packages (from englisttohindi) (2.27.1)\n",
            "Requirement already satisfied: beautifulsoup4 in /usr/local/lib/python3.10/dist-packages (from bs4->englisttohindi) (4.11.2)\n",
            "Requirement already satisfied: python-dateutil>=2.8.1 in /usr/local/lib/python3.10/dist-packages (from pandas->englisttohindi) (2.8.2)\n",
            "Requirement already satisfied: pytz>=2020.1 in /usr/local/lib/python3.10/dist-packages (from pandas->englisttohindi) (2022.7.1)\n",
            "Requirement already satisfied: numpy>=1.21.0 in /usr/local/lib/python3.10/dist-packages (from pandas->englisttohindi) (1.22.4)\n",
            "Requirement already satisfied: urllib3<1.27,>=1.21.1 in /usr/local/lib/python3.10/dist-packages (from requests->englisttohindi) (1.26.15)\n",
            "Requirement already satisfied: certifi>=2017.4.17 in /usr/local/lib/python3.10/dist-packages (from requests->englisttohindi) (2022.12.7)\n",
            "Requirement already satisfied: charset-normalizer~=2.0.0 in /usr/local/lib/python3.10/dist-packages (from requests->englisttohindi) (2.0.12)\n",
            "Requirement already satisfied: idna<4,>=2.5 in /usr/local/lib/python3.10/dist-packages (from requests->englisttohindi) (2.10)\n",
            "Requirement already satisfied: six>=1.5 in /usr/local/lib/python3.10/dist-packages (from python-dateutil>=2.8.1->pandas->englisttohindi) (1.16.0)\n",
            "Requirement already satisfied: soupsieve>1.2 in /usr/local/lib/python3.10/dist-packages (from beautifulsoup4->bs4->englisttohindi) (2.4.1)\n"
          ]
        }
      ]
    },
    {
      "cell_type": "code",
      "source": [
        "from englisttohindi.englisttohindi import EngtoHindi\n",
        "trans = EngtoHindi(message=\"you would have for instance a function like say push define and it will have two parameters\")\n",
        "print(trans.convert)"
      ],
      "metadata": {
        "colab": {
          "base_uri": "https://localhost:8080/"
        },
        "id": "KAuENAINmL95",
        "outputId": "333ca71f-fca1-4230-e38b-f68bbab2f834"
      },
      "execution_count": null,
      "outputs": [
        {
          "output_type": "stream",
          "name": "stdout",
          "text": [
            "उदाहरण के लिए आपके पास पुश परिभाषित कहने जैसा फ़ंक्शन होगा और इसमें दो पैरामीटर होंगे\n"
          ]
        }
      ]
    },
    {
      "cell_type": "code",
      "source": [
        "actual='उदाहरण के लिए आपके पास एक फ़ंक्शन होगा जैसे पुश परिभाषित किया गया है और इसमें पैरामीटर होंगे'\n",
        "prediction='उदाहरण के लिए आपके पास पुश परिभाषित कहने जैसा फ़ंक्शन होगा और इसमें दो पैरामीटर होंगे'\n",
        "from nltk.translate.bleu_score import sentence_bleu\n",
        "bleu=sentence_bleu([actual.split()], prediction.split(),weights=(1, 0, 0, 0))\n",
        "print(bleu)"
      ],
      "metadata": {
        "colab": {
          "base_uri": "https://localhost:8080/"
        },
        "id": "t-rJP7bLhOc-",
        "outputId": "9b33672f-51c2-4abd-d3ff-9378507eb7a4"
      },
      "execution_count": null,
      "outputs": [
        {
          "output_type": "stream",
          "name": "stdout",
          "text": [
            "0.7170287333499838\n"
          ]
        }
      ]
    },
    {
      "cell_type": "code",
      "source": [
        "!pip install googletrans==3.1.0a0"
      ],
      "metadata": {
        "id": "obBPAbK2MBgx",
        "colab": {
          "base_uri": "https://localhost:8080/"
        },
        "outputId": "9838a79d-4ab2-4aac-832c-8193655f44fd"
      },
      "execution_count": null,
      "outputs": [
        {
          "output_type": "stream",
          "name": "stdout",
          "text": [
            "Looking in indexes: https://pypi.org/simple, https://us-python.pkg.dev/colab-wheels/public/simple/\n",
            "Collecting googletrans==3.1.0a0\n",
            "  Downloading googletrans-3.1.0a0.tar.gz (19 kB)\n",
            "  Preparing metadata (setup.py) ... \u001b[?25l\u001b[?25hdone\n",
            "Collecting httpx==0.13.3 (from googletrans==3.1.0a0)\n",
            "  Downloading httpx-0.13.3-py3-none-any.whl (55 kB)\n",
            "\u001b[2K     \u001b[90m━━━━━━━━━━━━━━━━━━━━━━━━━━━━━━━━━━━━━━━━\u001b[0m \u001b[32m55.1/55.1 kB\u001b[0m \u001b[31m1.5 MB/s\u001b[0m eta \u001b[36m0:00:00\u001b[0m\n",
            "\u001b[?25hRequirement already satisfied: certifi in /usr/local/lib/python3.10/dist-packages (from httpx==0.13.3->googletrans==3.1.0a0) (2022.12.7)\n",
            "Collecting hstspreload (from httpx==0.13.3->googletrans==3.1.0a0)\n",
            "  Downloading hstspreload-2023.1.1-py3-none-any.whl (1.5 MB)\n",
            "\u001b[2K     \u001b[90m━━━━━━━━━━━━━━━━━━━━━━━━━━━━━━━━━━━━━━━━\u001b[0m \u001b[32m1.5/1.5 MB\u001b[0m \u001b[31m20.7 MB/s\u001b[0m eta \u001b[36m0:00:00\u001b[0m\n",
            "\u001b[?25hRequirement already satisfied: sniffio in /usr/local/lib/python3.10/dist-packages (from httpx==0.13.3->googletrans==3.1.0a0) (1.3.0)\n",
            "Collecting chardet==3.* (from httpx==0.13.3->googletrans==3.1.0a0)\n",
            "  Downloading chardet-3.0.4-py2.py3-none-any.whl (133 kB)\n",
            "\u001b[2K     \u001b[90m━━━━━━━━━━━━━━━━━━━━━━━━━━━━━━━━━━━━━━━\u001b[0m \u001b[32m133.4/133.4 kB\u001b[0m \u001b[31m7.4 MB/s\u001b[0m eta \u001b[36m0:00:00\u001b[0m\n",
            "\u001b[?25hCollecting idna==2.* (from httpx==0.13.3->googletrans==3.1.0a0)\n",
            "  Downloading idna-2.10-py2.py3-none-any.whl (58 kB)\n",
            "\u001b[2K     \u001b[90m━━━━━━━━━━━━━━━━━━━━━━━━━━━━━━━━━━━━━━━━\u001b[0m \u001b[32m58.8/58.8 kB\u001b[0m \u001b[31m2.1 MB/s\u001b[0m eta \u001b[36m0:00:00\u001b[0m\n",
            "\u001b[?25hCollecting rfc3986<2,>=1.3 (from httpx==0.13.3->googletrans==3.1.0a0)\n",
            "  Downloading rfc3986-1.5.0-py2.py3-none-any.whl (31 kB)\n",
            "Collecting httpcore==0.9.* (from httpx==0.13.3->googletrans==3.1.0a0)\n",
            "  Downloading httpcore-0.9.1-py3-none-any.whl (42 kB)\n",
            "\u001b[2K     \u001b[90m━━━━━━━━━━━━━━━━━━━━━━━━━━━━━━━━━━━━━━━━\u001b[0m \u001b[32m42.6/42.6 kB\u001b[0m \u001b[31m1.9 MB/s\u001b[0m eta \u001b[36m0:00:00\u001b[0m\n",
            "\u001b[?25hCollecting h11<0.10,>=0.8 (from httpcore==0.9.*->httpx==0.13.3->googletrans==3.1.0a0)\n",
            "  Downloading h11-0.9.0-py2.py3-none-any.whl (53 kB)\n",
            "\u001b[2K     \u001b[90m━━━━━━━━━━━━━━━━━━━━━━━━━━━━━━━━━━━━━━━━\u001b[0m \u001b[32m53.6/53.6 kB\u001b[0m \u001b[31m3.3 MB/s\u001b[0m eta \u001b[36m0:00:00\u001b[0m\n",
            "\u001b[?25hCollecting h2==3.* (from httpcore==0.9.*->httpx==0.13.3->googletrans==3.1.0a0)\n",
            "  Downloading h2-3.2.0-py2.py3-none-any.whl (65 kB)\n",
            "\u001b[2K     \u001b[90m━━━━━━━━━━━━━━━━━━━━━━━━━━━━━━━━━━━━━━━━\u001b[0m \u001b[32m65.0/65.0 kB\u001b[0m \u001b[31m3.5 MB/s\u001b[0m eta \u001b[36m0:00:00\u001b[0m\n",
            "\u001b[?25hCollecting hyperframe<6,>=5.2.0 (from h2==3.*->httpcore==0.9.*->httpx==0.13.3->googletrans==3.1.0a0)\n",
            "  Downloading hyperframe-5.2.0-py2.py3-none-any.whl (12 kB)\n",
            "Collecting hpack<4,>=3.0 (from h2==3.*->httpcore==0.9.*->httpx==0.13.3->googletrans==3.1.0a0)\n",
            "  Downloading hpack-3.0.0-py2.py3-none-any.whl (38 kB)\n",
            "Building wheels for collected packages: googletrans\n",
            "  Building wheel for googletrans (setup.py) ... \u001b[?25l\u001b[?25hdone\n",
            "  Created wheel for googletrans: filename=googletrans-3.1.0a0-py3-none-any.whl size=16352 sha256=dcc805f30e48935be96f3deb4fa9caa62736415e8d2d4c508f0bae23658874a1\n",
            "  Stored in directory: /root/.cache/pip/wheels/50/5d/3c/8477d0af4ca2b8b1308812c09f1930863caeebc762fe265a95\n",
            "Successfully built googletrans\n",
            "Installing collected packages: rfc3986, hyperframe, hpack, h11, chardet, idna, hstspreload, h2, httpcore, httpx, googletrans\n",
            "  Attempting uninstall: chardet\n",
            "    Found existing installation: chardet 4.0.0\n",
            "    Uninstalling chardet-4.0.0:\n",
            "      Successfully uninstalled chardet-4.0.0\n",
            "  Attempting uninstall: idna\n",
            "    Found existing installation: idna 3.4\n",
            "    Uninstalling idna-3.4:\n",
            "      Successfully uninstalled idna-3.4\n",
            "Successfully installed chardet-3.0.4 googletrans-3.1.0a0 h11-0.9.0 h2-3.2.0 hpack-3.0.0 hstspreload-2023.1.1 httpcore-0.9.1 httpx-0.13.3 hyperframe-5.2.0 idna-2.10 rfc3986-1.5.0\n"
          ]
        }
      ]
    },
    {
      "cell_type": "code",
      "source": [
        "#parallel corpora for englist  to hindi\n",
        "import pandas as pd\n",
        "from googletrans import Translator\n",
        "\n",
        "# Create a translator object\n",
        "translator = Translator()\n",
        "with open('/content/text_only','r') as f:\n",
        "  text=f.readlines()\n",
        "\n",
        "for line in text:\n",
        "  # try:\n",
        "    line=line.strip()\n",
        "    value=\" \".join(line.split()[1:])\n",
        "    with open('/content/drive/MyDrive/data/SSMT/train_1.src','a') as eng:\n",
        "      eng.write(value+'.')\n",
        "      eng.write('\\n')\n",
        "      eng.close()\n",
        "    with open('/content/drive/MyDrive/data/SSMT/train_1.tgt','a') as hi:\n",
        "      translation = translator.translate(value, dest='hi') \n",
        "      hi.write(translation.text+'|')\n",
        "      hi.write('\\n')\n",
        "      hi.close()  \n",
        "  # except:\n",
        "  #   print('Hello')\n",
        " \n",
        "\n"
      ],
      "metadata": {
        "id": "M7DTgkvvIms7"
      },
      "execution_count": null,
      "outputs": []
    },
    {
      "cell_type": "code",
      "source": [
        "import pandas as pd\n",
        "from googletrans import Translator\n",
        "\n",
        "# Create a translator object\n",
        "translator = Translator()\n",
        "with open('/content/drive/MyDrive/data/SSMT/project/asr_input','r') as f:\n",
        "  text=f.readlines()\n",
        "\n",
        "for value in text:\n",
        "  line=value.strip()\n",
        "  value=\" \".join(line.split()[1:])\n",
        "  try:\n",
        "    with open('/content/drive/MyDrive/data/SSMT/project/valid_asr.src','a') as f: \n",
        "      f.write(value+'.')\n",
        "      f.write('\\n')\n",
        "      f.close() \n",
        "    with open('/content/drive/MyDrive/data/SSMT/project/valid_asr.tgt','a') as f:\n",
        "      translation = translator.translate(value, dest='hi') \n",
        "      f.write(translation.text+'|')\n",
        "      f.write('\\n')\n",
        "      f.close()  \n",
        "  except:\n",
        "    print('ello')"
      ],
      "metadata": {
        "id": "8ekaBLbeo8i3"
      },
      "execution_count": null,
      "outputs": []
    },
    {
      "cell_type": "code",
      "source": [
        "import pandas as pd\n",
        "from googletrans import Translator\n",
        "\n",
        "# Create a translator object\n",
        "translator = Translator()\n",
        "\n",
        "asr_10=pd.read_csv('/content/drive/MyDrive/data/SSMT/project/processed_asr_kaldi.csv',header=None)\n",
        "\n",
        "for value in asr_10[0]:\n",
        "  # print(value)\n",
        "  try:\n",
        "    with open('/content/drive/MyDrive/data/SSMT/project/processed_asr_kaldi.src','a') as f: \n",
        "      f.write(value+'.')\n",
        "      f.write('\\n')\n",
        "      f.close() \n",
        "    with open('/content/drive/MyDrive/data/SSMT/project/processed_asr_kaldi.tgt','a') as f:\n",
        "      translation = translator.translate(value, dest='hi') \n",
        "      f.write(translation.text+'|')\n",
        "      f.write('\\n')\n",
        "      f.close()  \n",
        "  except:\n",
        "    print('ello')"
      ],
      "metadata": {
        "id": "5f4bgpljNP_j"
      },
      "execution_count": null,
      "outputs": []
    },
    {
      "cell_type": "code",
      "source": [
        "import pandas as pd\n",
        "from googletrans import Translator\n",
        "\n",
        "# Create a translator object\n",
        "translator = Translator()\n",
        "\n",
        "asr_30=pd.read_csv('/content/drive/MyDrive/data/SSMT/project/processed_asr_w2v.csv',header=None)\n",
        "\n",
        "for value in asr_10[0]:\n",
        "  # print(value)\n",
        "  try:\n",
        "    with open('/content/drive/MyDrive/data/SSMT/project/processed_asr_w2v.src','a') as f: \n",
        "      f.write(value+'.')\n",
        "      f.write('\\n')\n",
        "      f.close() \n",
        "    with open('/content/drive/MyDrive/data/SSMT/project/processed_asr_w2v.tgt','a') as f:\n",
        "      translation = translator.translate(value, dest='hi') \n",
        "      f.write(translation.text+'|')\n",
        "      f.write('\\n')\n",
        "      f.close()  \n",
        "  except:\n",
        "    print('ello')"
      ],
      "metadata": {
        "id": "sIZf8bhzOXpt"
      },
      "execution_count": null,
      "outputs": []
    },
    {
      "cell_type": "code",
      "source": [
        "import pandas as pd\n",
        "from googletrans import Translator\n",
        "\n",
        "# Create a translator object\n",
        "translator = Translator()\n",
        "\n",
        "asr_30=pd.read_csv('/content/drive/MyDrive/data/SSMT/project/w2v_final.csv',header=None)\n",
        "\n",
        "for value in asr_10[0]:\n",
        "  # print(value)\n",
        "  try:\n",
        "    with open('/content/drive/MyDrive/data/SSMT/project/valid_30.src','a') as f: \n",
        "      f.write(value+'.')\n",
        "      f.write('\\n')\n",
        "      f.close() \n",
        "    with open('/content/drive/MyDrive/data/SSMT/project/valid_30.tgt','a') as f:\n",
        "      translation = translator.translate(value, dest='hi') \n",
        "      f.write(translation.text+'|')\n",
        "      f.write('\\n')\n",
        "      f.close()  \n",
        "  except:\n",
        "    print('ello')"
      ],
      "metadata": {
        "id": "2O5_SbQLQrWZ"
      },
      "execution_count": null,
      "outputs": []
    }
  ]
}